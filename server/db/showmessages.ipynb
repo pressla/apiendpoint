{
 "cells": [
  {
   "cell_type": "code",
   "execution_count": 21,
   "id": "amazing-paraguay",
   "metadata": {},
   "outputs": [
    {
     "name": "stdout",
     "output_type": "stream",
     "text": [
      "There is a 75% chance of a long signal this morning. Please be prepared to enter a put credit spread trade.\n",
      "The Adaptive IQ signal is suggesting a short trade this morning: an $SPX index call credit spread trade, expiring today, with a short strike of 3800\n",
      "ANALYSIS: call credit spread strike: 3800\n",
      "CORRECTION LONG TRADE SHORT STRIKE 3800\n",
      "CLARIFYING ONCE AGAIN: THIS MORNING'S TRADE IS A LONG TRADE WITH A SHORT PUT STRIKE OF 3800 OUR APOLOGIES\n",
      "2021-03-05 16:16:19.723826  new SPX credit spread pos:1 strike: 3800\n"
     ]
    }
   ],
   "source": [
    "import datetime as dt\n",
    "import requests\n",
    "from bs4 import BeautifulSoup\n",
    "pos = 0\n",
    "sp=0\n",
    "if pos==0:\n",
    "    vgm_url = 'https://msg.smbtradealerts.com/'\n",
    "    html_text = requests.get(vgm_url).text\n",
    "    soup = BeautifulSoup(html_text, 'html.parser')\n",
    "\n",
    "    for line in soup.find_all('strong'):\n",
    "        s = line.string\n",
    "        print(s)\n",
    "        if s.find('put credit spread trade, expiring today, with a short strike of') != -1:\n",
    "            sp=s[len(s)-4:]\n",
    "            print ('put credit spread strike:',sp)\n",
    "            pos = -1\n",
    "        if s.find('call credit') != -1:\n",
    "            if s.find('short strike') != -1:\n",
    "                sp=s[len(s)-4:]\n",
    "                print ('ANALYSIS: call credit spread strike:',sp)\n",
    "                pos = 1\n",
    "    print (dt.datetime.now(),' new SPX credit spread pos:'+str(pos),'strike:',sp)\n",
    "    #pos=0\n",
    "    if pos==0:\n",
    "        print('waiting... smbWeeklyOptions no position today?')\n",
    "        #time.sleep(10)\n",
    "\n",
    "    strikePrice = float(sp)\n"
   ]
  },
  {
   "cell_type": "code",
   "execution_count": 13,
   "id": "accredited-surface",
   "metadata": {},
   "outputs": [
    {
     "name": "stdout",
     "output_type": "stream",
     "text": [
      "Swing trading Signals 3/5/21  [The Robust Trader]\n",
      "Swing trading Signals 3/5/21  [The Robust Trader]Short comment:&nbsp;We have no signals for Friday opening. We currently have the maximum amount of positions and we will patiently wait for our systems to give us signals to exit.\n",
      "\n",
      "BUY SIGNALS\n",
      "(Buy on open)\n",
      "\n",
      "None\n",
      "\n",
      "\n",
      "SELL SIGNALS\n",
      "(Sell on open)\n",
      "\n",
      "None\n",
      "\n",
      "ONGOING TRADES\n",
      "\n",
      "Cerner Corp (CERN), entry price 72.47 - 210217\n",
      "\n",
      "Abbott Laboratories (ABT), entry price 122.95 - 210222\n",
      "\n",
      "Check Point Software (CHKP), entry price 111.18 - 210303\n",
      "\n",
      "Baidu Inc (BIDU), entry price 272.22 - 210304\n",
      "\n",
      "Booking Holdings Inc (BKNG), entry price 2277.165 - 210304\n",
      "&nbsp;\n",
      "\n",
      "\n",
      "Please see links below for more information about our signals and our service:\n",
      "\n",
      "Track records\n",
      "\n",
      "Weekly reports\n",
      "\n",
      "Short description about our service\n",
      "\n",
      "\n",
      "To unsubscribe from our periodic e-mail messages, please click the following link\n",
      "\n",
      "\n"
     ]
    }
   ],
   "source": [
    "import json\n",
    "\n",
    "with open('trt.out') as json_file:\n",
    "    lis = json_file.readlines()\n",
    "    d = []\n",
    "    for line in lis:\n",
    "        nest = json.loads(line)\n",
    "        d.append(nest)\n",
    "    last = d[-1]\n",
    "    print(d[-1]['header'])\n",
    "    #print(d[-1]['date'])\n",
    "    print(d[-1]['text'])\n",
    "    "
   ]
  },
  {
   "cell_type": "code",
   "execution_count": 6,
   "id": "direct-pearl",
   "metadata": {},
   "outputs": [],
   "source": [
    "which = '/root/apiendpoint/server/db/predict1d.out'"
   ]
  },
  {
   "cell_type": "code",
   "execution_count": null,
   "id": "educated-young",
   "metadata": {},
   "outputs": [],
   "source": []
  },
  {
   "cell_type": "code",
   "execution_count": 13,
   "id": "affiliated-radical",
   "metadata": {},
   "outputs": [
    {
     "name": "stdout",
     "output_type": "stream",
     "text": [
      "{'header': 'predict1d', 'date': '2021-02-22 12:00:19.090693', 'text': '{\"symbols\": [\"ZLAB\", \"AIZ\", \"ODFL\", \"ARWR\", \"CZR\", \"RARE\", \"DVA\", \"CP\", \"MOH\", \"CREE\", \"CBRL\", \"ICLR\", \"MTD\", \"BGNE\", \"LDOS\", \"WDAY\", \"SPOT\", \"TEAM\", \"NVCR\", \"CNSWF\"], \"alloc\": [28, 40, 23, 55, 60, 33, 48, 13, 22, 39, 32, 24, 4, 14, 48, 18, 13, 19, 26, 3], \"pt\": [177.46890258789062, 124.95722961425781, 217.90977478027344, 91.59176635742188, 85.0787353515625, 151.2249755859375, 103.66938781738281, 370.1699523925781, 223.49505615234375, 128.58572387695312, 156.5763397216797, 210.74884033203125, 1180.1412353515625, 354.76629638671875, 109.20653533935547, 280.9014587402344, 370.08270263671875, 266.5024108886719, 195.3956298828125, 1420.9410400390625], \"sl\": [171.38888549804688, 121.99138641357422, 213.4124755859375, 87.43052673339844, 80.89190673828125, 145.79722595214844, 100.66962432861328, 362.9799499511719, 219.51339721679688, 123.85307312011719, 152.0985107421875, 203.9423370361328, 1159.032470703125, 345.5889587402344, 103.59318542480469, 275.3009338378906, 357.7663879394531, 257.84759521484375, 182.25241088867188, 1357.9620361328125]}'}\n",
      "2021-02-22 12:00:19.090693\n",
      "20\n",
      "['ZLAB', 'AIZ', 'ODFL', 'ARWR', 'CZR', 'RARE', 'DVA', 'CP', 'MOH', 'CREE', 'CBRL', 'ICLR', 'MTD', 'BGNE', 'LDOS', 'WDAY', 'SPOT', 'TEAM', 'NVCR', 'CNSWF']\n",
      "[28, 40, 23, 55, 60, 33, 48, 13, 22, 39, 32, 24, 4, 14, 48, 18, 13, 19, 26, 3]\n",
      "[177.46890258789062, 124.95722961425781, 217.90977478027344, 91.59176635742188, 85.0787353515625, 151.2249755859375, 103.66938781738281, 370.1699523925781, 223.49505615234375, 128.58572387695312, 156.5763397216797, 210.74884033203125, 1180.1412353515625, 354.76629638671875, 109.20653533935547, 280.9014587402344, 370.08270263671875, 266.5024108886719, 195.3956298828125, 1420.9410400390625]\n",
      "[171.38888549804688, 121.99138641357422, 213.4124755859375, 87.43052673339844, 80.89190673828125, 145.79722595214844, 100.66962432861328, 362.9799499511719, 219.51339721679688, 123.85307312011719, 152.0985107421875, 203.9423370361328, 1159.032470703125, 345.5889587402344, 103.59318542480469, 275.3009338378906, 357.7663879394531, 257.84759521484375, 182.25241088867188, 1357.9620361328125]\n"
     ]
    }
   ],
   "source": [
    "import json\n",
    "\n",
    "with open(which) as json_file:\n",
    "    lis = json_file.readlines()\n",
    "    d = []\n",
    "    #print(lis)\n",
    "    for line in lis:\n",
    "        nest = json.loads(line)\n",
    "        d.append(nest)\n",
    "    last = d[-1]['text']\n",
    "    msg = json.loads(last)\n",
    "    print(nest)\n",
    "    print (d[-1]['date'])\n",
    "    print(len(msg['symbols']))\n",
    "    print(msg['symbols'])\n",
    "    print(msg['alloc'])\n",
    "    print(msg['pt'])\n",
    "    print(msg['sl'])\n",
    "\n"
   ]
  },
  {
   "cell_type": "code",
   "execution_count": null,
   "id": "super-nightlife",
   "metadata": {},
   "outputs": [],
   "source": []
  },
  {
   "cell_type": "code",
   "execution_count": 8,
   "id": "utility-authentication",
   "metadata": {},
   "outputs": [
    {
     "ename": "KeyError",
     "evalue": "'msg'",
     "output_type": "error",
     "traceback": [
      "\u001b[0;31m---------------------------------------------------------------------------\u001b[0m",
      "\u001b[0;31mKeyError\u001b[0m                                  Traceback (most recent call last)",
      "\u001b[0;32m<ipython-input-8-df6ed0045c65>\u001b[0m in \u001b[0;36m<module>\u001b[0;34m\u001b[0m\n\u001b[1;32m      4\u001b[0m    \u001b[0;32mfor\u001b[0m \u001b[0mline\u001b[0m \u001b[0;32min\u001b[0m \u001b[0mlis\u001b[0m\u001b[0;34m:\u001b[0m\u001b[0;34m\u001b[0m\u001b[0;34m\u001b[0m\u001b[0m\n\u001b[1;32m      5\u001b[0m      \u001b[0mnest\u001b[0m \u001b[0;34m=\u001b[0m \u001b[0mjson\u001b[0m\u001b[0;34m.\u001b[0m\u001b[0mloads\u001b[0m\u001b[0;34m(\u001b[0m\u001b[0mline\u001b[0m\u001b[0;34m)\u001b[0m\u001b[0;34m\u001b[0m\u001b[0;34m\u001b[0m\u001b[0m\n\u001b[0;32m----> 6\u001b[0;31m      \u001b[0md\u001b[0m\u001b[0;34m.\u001b[0m\u001b[0mappend\u001b[0m\u001b[0;34m(\u001b[0m\u001b[0mjson\u001b[0m\u001b[0;34m.\u001b[0m\u001b[0mloads\u001b[0m\u001b[0;34m(\u001b[0m\u001b[0mnest\u001b[0m\u001b[0;34m[\u001b[0m\u001b[0;34m'msg'\u001b[0m\u001b[0;34m]\u001b[0m\u001b[0;34m)\u001b[0m\u001b[0;34m)\u001b[0m\u001b[0;34m\u001b[0m\u001b[0;34m\u001b[0m\u001b[0m\n\u001b[0m\u001b[1;32m      7\u001b[0m \u001b[0;34m\u001b[0m\u001b[0m\n\u001b[1;32m      8\u001b[0m \u001b[0;34m\u001b[0m\u001b[0m\n",
      "\u001b[0;31mKeyError\u001b[0m: 'msg'"
     ]
    }
   ],
   "source": [
    "    with open(which) as json_file:\n",
    "       lis = json_file.readlines()\n",
    "       d = []\n",
    "       for line in lis:\n",
    "         nest = json.loads(line)\n",
    "         d.append(json.loads(nest['msg']))\n",
    "    \n",
    " "
   ]
  },
  {
   "cell_type": "code",
   "execution_count": 14,
   "id": "convenient-david",
   "metadata": {},
   "outputs": [
    {
     "name": "stdout",
     "output_type": "stream",
     "text": [
      "['IDXXn', 'FANGn', 'AMGn', 'WDAYn', 'MLMn', 'GBTn', 'XECn', 'CRSPn', 'EDITn', 'TSLAn', 'MELIn', 'GTLSn', 'SPOTn', 'ETSYn', 'SQn', 'XPOn', 'DOCUn', 'MOHn', 'NVCRn', 'ZBRAn', 'SAGEn', 'PDCEn', 'PAYCn', 'NBRn']\n",
      "[7, 60, 28, 14, 12, 85, 80, 25, 71, 5, 2, 27, 12, 17, 15, 34, 15, 19, 21, 8, 48, 145, 10, 48]\n"
     ]
    }
   ],
   "source": [
    "    last = d[-1]['text']\n",
    "    sdate = d[-1]['date']\n",
    "    msg = json.loads(last)\n",
    "    print(msg['symbols'])\n",
    "    print(msg['alloc'])"
   ]
  },
  {
   "cell_type": "code",
   "execution_count": 15,
   "id": "laughing-ability",
   "metadata": {},
   "outputs": [
    {
     "name": "stdout",
     "output_type": "stream",
     "text": [
      "7   IDXXn\n",
      "60   FANGn\n",
      "28   AMGn\n",
      "14   WDAYn\n",
      "12   MLMn\n",
      "85   GBTn\n",
      "80   XECn\n",
      "25   CRSPn\n",
      "71   EDITn\n",
      "5   TSLAn\n",
      "2   MELIn\n",
      "27   GTLSn\n",
      "12   SPOTn\n",
      "17   ETSYn\n",
      "15   SQn\n",
      "34   XPOn\n",
      "15   DOCUn\n",
      "19   MOHn\n",
      "21   NVCRn\n",
      "8   ZBRAn\n",
      "48   SAGEn\n",
      "145   PDCEn\n",
      "10   PAYCn\n",
      "48   NBRn\n"
     ]
    }
   ],
   "source": [
    "        ret={}\n",
    "        ret['buys'] =[]\n",
    "        ret['sells'] =msg['symbols']\n",
    "        ret['alloc']=msg['alloc']\n",
    "        ret['holds'] =[]\n",
    "        n=0\n",
    "        d=ret\n",
    "        for sym in d['sells']:\n",
    "            if 'alloc' in d:\n",
    "                numstk = d['alloc'][n]\n",
    "                print(numstk,' ',sym)\n",
    "                n=n+1"
   ]
  },
  {
   "cell_type": "code",
   "execution_count": null,
   "id": "historical-helena",
   "metadata": {},
   "outputs": [],
   "source": []
  }
 ],
 "metadata": {
  "kernelspec": {
   "display_name": "Python 3",
   "language": "python",
   "name": "python3"
  },
  "language_info": {
   "codemirror_mode": {
    "name": "ipython",
    "version": 3
   },
   "file_extension": ".py",
   "mimetype": "text/x-python",
   "name": "python",
   "nbconvert_exporter": "python",
   "pygments_lexer": "ipython3",
   "version": "3.7.5"
  }
 },
 "nbformat": 4,
 "nbformat_minor": 5
}
